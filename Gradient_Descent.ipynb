{
  "nbformat": 4,
  "nbformat_minor": 0,
  "metadata": {
    "colab": {
      "provenance": [],
      "authorship_tag": "ABX9TyOMPE70N/uSWiHRIXi434nw",
      "include_colab_link": true
    },
    "kernelspec": {
      "name": "python3",
      "display_name": "Python 3"
    },
    "language_info": {
      "name": "python"
    }
  },
  "cells": [
    {
      "cell_type": "markdown",
      "metadata": {
        "id": "view-in-github",
        "colab_type": "text"
      },
      "source": [
        "<a href=\"https://colab.research.google.com/github/Sandra07alex/Gradient-Descent-Quadratic-Equation/blob/main/Gradient_Descent.ipynb\" target=\"_parent\"><img src=\"https://colab.research.google.com/assets/colab-badge.svg\" alt=\"Open In Colab\"/></a>"
      ]
    },
    {
      "cell_type": "code",
      "execution_count": 2,
      "metadata": {
        "id": "rRLNGQidtnBv"
      },
      "outputs": [],
      "source": [
        "import numpy as np"
      ]
    },
    {
      "cell_type": "code",
      "source": [
        "a = float(input(\"Enter the coefficient (a): \"))\n",
        "b = float(input(\"Enter the coefficient (b): \"))\n",
        "c = float(input(\"Enter the coefficient (c): \"))\n",
        "d = float(input(\"Enter the coefficient (d): \"))"
      ],
      "metadata": {
        "colab": {
          "base_uri": "https://localhost:8080/"
        },
        "id": "vr3NLJdZt23u",
        "outputId": "08428e52-01a6-42b9-e464-b75445045b69"
      },
      "execution_count": 3,
      "outputs": [
        {
          "name": "stdout",
          "output_type": "stream",
          "text": [
            "Enter the coefficient (a): 5\n",
            "Enter the coefficient (b): 4\n",
            "Enter the coefficient (c): 3\n",
            "Enter the coefficient (d): 2\n"
          ]
        }
      ]
    },
    {
      "cell_type": "code",
      "source": [
        "x=np.random.rand()\n",
        "learning_rate=0.01\n",
        "epochs=100"
      ],
      "metadata": {
        "id": "pCVcOLekt_KK"
      },
      "execution_count": 4,
      "outputs": []
    },
    {
      "cell_type": "code",
      "source": [
        "for epoch in range (epochs):\n",
        "     value=a*x**3+b*x**2+d*x+c\n",
        "     gradient= 3*a *x**2 + 2*b*x+c\n",
        "\n",
        "\n",
        "     if gradient < -1:\n",
        "        gradient =0\n",
        "        x -=  learning_rate *gradient"
      ],
      "metadata": {
        "id": "8KeN7T5UuIah"
      },
      "execution_count": 5,
      "outputs": []
    },
    {
      "cell_type": "code",
      "source": [
        "print(f\"The Equation is: {a}x^3 + {b}x^2 + {d}x + {c}\")\n",
        "print(f\"The solution for x is approximately : {x}\")"
      ],
      "metadata": {
        "colab": {
          "base_uri": "https://localhost:8080/"
        },
        "id": "8T_I4A9euMPQ",
        "outputId": "203366bd-1699-437a-bc8d-1c55fa5d924d"
      },
      "execution_count": 6,
      "outputs": [
        {
          "output_type": "stream",
          "name": "stdout",
          "text": [
            "The Equation is: 5.0x^3 + 4.0x^2 + 2.0x + 3.0\n",
            "The solution for x is approximately : 0.6867152242099731\n"
          ]
        }
      ]
    }
  ]
}